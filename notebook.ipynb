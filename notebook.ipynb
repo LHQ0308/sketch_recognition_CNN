{
 "cells": [
  {
   "cell_type": "code",
   "execution_count": 3,
   "metadata": {},
   "outputs": [],
   "source": [
    "from sklearn.datasets import load_files       \n",
    "from keras.utils import np_utils\n",
    "import numpy as np\n",
    "from glob import glob\n",
    "from keras.preprocessing import image                  \n",
    "from tqdm import tqdm\n",
    "from sklearn.model_selection import train_test_split\n",
    "from keras.layers import Conv2D, MaxPooling2D, GlobalAveragePooling2D\n",
    "from keras.layers import Dropout, Flatten, Dense\n",
    "from keras.models import Sequential\n",
    "import matplotlib.pyplot as plt\n",
    "from keras.preprocessing.image import ImageDataGenerator\n"
   ]
  },
  {
   "cell_type": "markdown",
   "metadata": {},
   "source": [
    "# Preparation"
   ]
  },
  {
   "cell_type": "code",
   "execution_count": 11,
   "metadata": {},
   "outputs": [],
   "source": [
    "#ID for the model\n",
    "model_name = \"final_map\""
   ]
  },
  {
   "cell_type": "markdown",
   "metadata": {},
   "source": [
    "The following defines functions to load train, test, and validation dataset (adapted from dog-cnn assignment)"
   ]
  },
  {
   "cell_type": "code",
   "execution_count": 5,
   "metadata": {},
   "outputs": [],
   "source": [
    "def load_dataset(path):\n",
    "    data = load_files(path)\n",
    "    files = np.array(data['filenames'])\n",
    "    targets = np_utils.to_categorical(np.array(data['target']), 250)\n",
    "    return files, targets\n",
    "\n",
    "def path_to_tensor(img_path,shape):\n",
    "    img = image.load_img(img_path, target_size=shape,grayscale=True)\n",
    "    x = image.img_to_array(img)\n",
    "    return np.expand_dims(x, axis=0)\n",
    "\n",
    "def paths_to_tensor(img_paths,shape):\n",
    "    list_of_tensors = [path_to_tensor(img_path,shape) for img_path in tqdm(img_paths)]\n",
    "    return np.vstack(list_of_tensors)\n",
    "\n"
   ]
  },
  {
   "cell_type": "code",
   "execution_count": 6,
   "metadata": {},
   "outputs": [],
   "source": [
    "#load folder\n",
    "X, y = load_dataset('png')\n",
    "#split data\n",
    "X_train, X_Test, y_train, y_test = train_test_split(X, y, test_size = 0.20, random_state=123)\n",
    "test_n = int(len(X_Test)/2)\n",
    "X_Val = X_Test[test_n:]\n",
    "y_val = y_test[test_n:]\n",
    "X_Test = X_Test[:test_n]\n",
    "y_test = y_test[:test_n]\n"
   ]
  },
  {
   "cell_type": "code",
   "execution_count": 7,
   "metadata": {},
   "outputs": [
    {
     "name": "stderr",
     "output_type": "stream",
     "text": [
      "100%|██████████| 16000/16000 [00:34<00:00, 459.44it/s]\n",
      "100%|██████████| 2000/2000 [00:06<00:00, 302.09it/s]\n",
      "100%|██████████| 2000/2000 [00:05<00:00, 391.81it/s]\n"
     ]
    }
   ],
   "source": [
    "#size of images\n",
    "shape = (256, 256) \n",
    "\n",
    "#create tensors\n",
    "train_tensors = paths_to_tensor(X_train,shape).astype('float32')/255\n",
    "valid_tensors = paths_to_tensor(X_Val,shape).astype('float32')/255\n",
    "test_tensors = paths_to_tensor(X_Test,shape).astype('float32')/255\n"
   ]
  },
  {
   "cell_type": "markdown",
   "metadata": {},
   "source": [
    "# Data Augmentation"
   ]
  },
  {
   "cell_type": "code",
   "execution_count": 9,
   "metadata": {},
   "outputs": [],
   "source": [
    "# setup data generator for Data Augmentation\n",
    "datagen = ImageDataGenerator(\n",
    "              width_shift_range=0.2,\n",
    "              height_shift_range=0.2,\n",
    "              horizontal_flip = True,\n",
    "              zoom_range = 0.2\n",
    "  )\n",
    "\n",
    "datagen.fit(train_tensors)\n",
    "\n"
   ]
  },
  {
   "cell_type": "code",
   "execution_count": 10,
   "metadata": {},
   "outputs": [
    {
     "name": "stdout",
     "output_type": "stream",
     "text": [
      "_________________________________________________________________\n",
      "Layer (type)                 Output Shape              Param #   \n",
      "=================================================================\n",
      "conv2d_1 (Conv2D)            (None, 256, 256, 16)      272       \n",
      "_________________________________________________________________\n",
      "max_pooling2d_1 (MaxPooling2 (None, 128, 128, 16)      0         \n",
      "_________________________________________________________________\n",
      "conv2d_2 (Conv2D)            (None, 128, 128, 32)      8224      \n",
      "_________________________________________________________________\n",
      "max_pooling2d_2 (MaxPooling2 (None, 64, 64, 32)        0         \n",
      "_________________________________________________________________\n",
      "conv2d_3 (Conv2D)            (None, 64, 64, 64)        32832     \n",
      "_________________________________________________________________\n",
      "max_pooling2d_3 (MaxPooling2 (None, 32, 32, 64)        0         \n",
      "_________________________________________________________________\n",
      "conv2d_4 (Conv2D)            (None, 32, 32, 128)       131200    \n",
      "_________________________________________________________________\n",
      "max_pooling2d_4 (MaxPooling2 (None, 16, 16, 128)       0         \n",
      "_________________________________________________________________\n",
      "conv2d_5 (Conv2D)            (None, 16, 16, 256)       524544    \n",
      "_________________________________________________________________\n",
      "max_pooling2d_5 (MaxPooling2 (None, 8, 8, 256)         0         \n",
      "_________________________________________________________________\n",
      "global_average_pooling2d_1 ( (None, 256)               0         \n",
      "_________________________________________________________________\n",
      "dropout_1 (Dropout)          (None, 256)               0         \n",
      "_________________________________________________________________\n",
      "dense_1 (Dense)              (None, 250)               64250     \n",
      "=================================================================\n",
      "Total params: 761,322\n",
      "Trainable params: 761,322\n",
      "Non-trainable params: 0\n",
      "_________________________________________________________________\n"
     ]
    }
   ],
   "source": [
    "# Initialize  and compile CNN\n",
    "\n",
    "\n",
    "#CNN \n",
    "model = Sequential()\n",
    "model.add(Conv2D(filters=16,kernel_size=4, padding='same',activation='relu',input_shape=train_tensors.shape[1:]))\n",
    "model.add(MaxPooling2D(pool_size=2))\n",
    "model.add(Conv2D(filters=32,kernel_size=4, padding='same',activation='relu'))\n",
    "model.add(MaxPooling2D(pool_size=2))\n",
    "model.add(Conv2D(filters=64,kernel_size=4, padding='same',activation='relu'))\n",
    "model.add(MaxPooling2D(pool_size=2))\n",
    "model.add(Conv2D(filters=128,kernel_size=4, padding='same',activation='relu'))\n",
    "model.add(MaxPooling2D(pool_size=2))\n",
    "model.add(Conv2D(filters=256,kernel_size=4, padding='same',activation='relu'))\n",
    "model.add(MaxPooling2D(pool_size=2))\n",
    "model.add(GlobalAveragePooling2D())\n",
    "model.add(Dropout(0.2))\n",
    "model.add(Dense(250,activation='softmax'))\n",
    "model.summary()\n",
    "\n",
    "\n",
    "model.compile(optimizer='rmsprop', loss='categorical_crossentropy', metrics=['accuracy'])\n"
   ]
  },
  {
   "cell_type": "markdown",
   "metadata": {},
   "source": [
    "# Training"
   ]
  },
  {
   "cell_type": "code",
   "execution_count": 12,
   "metadata": {},
   "outputs": [
    {
     "name": "stdout",
     "output_type": "stream",
     "text": [
      "Epoch 1/80\n",
      "499/500 [============================>.] - ETA: 0s - loss: 5.5282 - acc: 0.0032Epoch 00000: val_loss improved from inf to 5.51481, saving model to final_map.hdf5\n",
      "500/500 [==============================] - 53s - loss: 5.5283 - acc: 0.0032 - val_loss: 5.5148 - val_acc: 0.0035\n",
      "Epoch 2/80\n",
      "499/500 [============================>.] - ETA: 0s - loss: 5.3865 - acc: 0.0116  ETA: 10s - loss: 5.4309 - acc: 0. - ETA: 10s - loss: 5.4307  - ETA: 5s - loss: 5.4092Epoch 00001: val_loss improved from 5.51481 to 5.12267, saving model to final_map.hdf5\n",
      "500/500 [==============================] - 51s - loss: 5.3861 - acc: 0.0116 - val_loss: 5.1227 - val_acc: 0.0180\n",
      "Epoch 3/80\n",
      "499/500 [============================>.] - ETA: 0s - loss: 5.0148 - acc: 0.0285- ETA: 6s - loss: 5.0368 - acc: 0 - ETA: 5s - loss: 5.0346 - ETA: 4s - loss: - ETA: 2s - loss: 5.0221 - ac - ETA: 1s - loss: 5.0197 - acc:  - ETA: 0s - loss: 5.0182 - acc: 0.028 - ETA: 0s - loss: 5.0177 - accEpoch 00002: val_loss improved from 5.12267 to 4.69964, saving model to final_map.hdf5\n",
      "500/500 [==============================] - 51s - loss: 5.0145 - acc: 0.0285 - val_loss: 4.6996 - val_acc: 0.0745\n",
      "Epoch 4/80\n",
      "499/500 [============================>.] - ETA: 0s - loss: 4.5389 - acc: 0.0793Epoch 00003: val_loss improved from 4.69964 to 4.11184, saving model to final_map.hdf5\n",
      "500/500 [==============================] - 51s - loss: 4.5386 - acc: 0.0794 - val_loss: 4.1118 - val_acc: 0.1255\n",
      "Epoch 5/80\n",
      "499/500 [============================>.] - ETA: 0s - loss: 4.0525 - acc: 0.1371- ETA: 7s - loss: 4.0730 - acc: 0. -  - ETEpoch 00004: val_loss improved from 4.11184 to 3.58760, saving model to final_map.hdf5\n",
      "500/500 [==============================] - 51s - loss: 4.0517 - acc: 0.1372 - val_loss: 3.5876 - val_acc: 0.2285\n",
      "Epoch 6/80\n",
      "499/500 [============================>.] - ETA: 0s - loss: 3.6725 - acc: 0.2003Epoch 00005: val_loss improved from 3.58760 to 3.19729, saving model to final_map.hdf5\n",
      "500/500 [==============================] - 51s - loss: 3.6730 - acc: 0.2003 - val_loss: 3.1973 - val_acc: 0.2900\n",
      "Epoch 7/80\n",
      "499/500 [============================>.] - ETA: 0s - loss: 3.3445 - acc: 0.2628Epoch 00006: val_loss improved from 3.19729 to 2.99766, saving model to final_map.hdf5\n",
      "500/500 [==============================] - 52s - loss: 3.3437 - acc: 0.2629 - val_loss: 2.9977 - val_acc: 0.3380\n",
      "Epoch 8/80\n",
      "499/500 [============================>.] - ETA: 0s - loss: 3.0845 - acc: 0.3064Epoch 00007: val_loss improved from 2.99766 to 2.86055, saving model to final_map.hdf5\n",
      "500/500 [==============================] - 52s - loss: 3.0845 - acc: 0.3064 - val_loss: 2.8605 - val_acc: 0.3760\n",
      "Epoch 9/80\n",
      "499/500 [============================>.] - ETA: 0s - loss: 2.8630 - acc: 0.3543Epoch 00008: val_loss improved from 2.86055 to 2.55580, saving model to final_map.hdf5\n",
      "500/500 [==============================] - 51s - loss: 2.8627 - acc: 0.3544 - val_loss: 2.5558 - val_acc: 0.4145\n",
      "Epoch 10/80\n",
      "499/500 [============================>.] - ETA: 0s - loss: 2.6924 - acc: 0.3849- ETA: 3s - loss: 2.7084 - acc - ETA: 3sEpoch 00009: val_loss improved from 2.55580 to 2.41947, saving model to final_map.hdf5\n",
      "500/500 [==============================] - 52s - loss: 2.6928 - acc: 0.3847 - val_loss: 2.4195 - val_acc: 0.4470\n",
      "Epoch 11/80\n",
      "499/500 [============================>.] - ETA: 0s - loss: 2.5485 - acc: 0.4123  ETA: 10s - loss: 2.5703 - a - ETA: 10s - loss: 2.5666 - - ETA: 9s - loss: 2.5633 - acc - ETA: 1s - loss: 2.5497 - aEpoch 00010: val_loss improved from 2.41947 to 2.27742, saving model to final_map.hdf5\n",
      "500/500 [==============================] - 52s - loss: 2.5504 - acc: 0.4120 - val_loss: 2.2774 - val_acc: 0.4840\n",
      "Epoch 12/80\n",
      "499/500 [============================>.] - ETA: 0s - loss: 2.4198 - acc: 0.4377Epoch 00011: val_loss improved from 2.27742 to 2.25122, saving model to final_map.hdf5\n",
      "500/500 [==============================] - 52s - loss: 2.4201 - acc: 0.4375 - val_loss: 2.2512 - val_acc: 0.4865\n",
      "Epoch 13/80\n",
      "499/500 [============================>.] - ETA: 0s - loss: 2.3443 - acc: 0.4530-Epoch 00012: val_loss improved from 2.25122 to 2.13366, saving model to final_map.hdf5\n",
      "500/500 [==============================] - 52s - loss: 2.3456 - acc: 0.4529 - val_loss: 2.1337 - val_acc: 0.4975\n",
      "Epoch 14/80\n",
      "499/500 [============================>.] - ETA: 0s - loss: 2.2632 - acc: 0.4696Epoch 00013: val_loss improved from 2.13366 to 2.00802, saving model to final_map.hdf5\n",
      "500/500 [==============================] - 52s - loss: 2.2650 - acc: 0.4694 - val_loss: 2.0080 - val_acc: 0.5330\n",
      "Epoch 15/80\n",
      "499/500 [============================>.] - ETA: 0s - loss: 2.1745 - acc: 0.4839- ETA: 1s - loss: 2.17Epoch 00014: val_loss did not improve\n",
      "500/500 [==============================] - 52s - loss: 2.1755 - acc: 0.4836 - val_loss: 2.1543 - val_acc: 0.5170\n",
      "Epoch 16/80\n",
      "499/500 [============================>.] - ETA: 0s - loss: 2.1300 - acc: 0.4965Epoch 00015: val_loss improved from 2.00802 to 1.92756, saving model to final_map.hdf5\n",
      "500/500 [==============================] - 52s - loss: 2.1292 - acc: 0.4965 - val_loss: 1.9276 - val_acc: 0.5565\n",
      "Epoch 17/80\n",
      "499/500 [============================>.] - ETA: 0s - loss: 2.0779 - acc: 0.5103Epoch 00016: val_loss did not improve\n",
      "500/500 [==============================] - 52s - loss: 2.0773 - acc: 0.5105 - val_loss: 1.9717 - val_acc: 0.5655\n",
      "Epoch 18/80\n",
      "499/500 [============================>.] - ETA: 0s - loss: 2.0165 - acc: 0.5205Epoch 00017: val_loss did not improve\n",
      "500/500 [==============================] - 52s - loss: 2.0168 - acc: 0.5206 - val_loss: 1.9833 - val_acc: 0.5580\n",
      "Epoch 19/80\n",
      "499/500 [============================>.] - ETA: 0s - loss: 2.0102 - acc: 0.5222Epoch 00018: val_loss improved from 1.92756 to 1.88624, saving model to final_map.hdf5\n",
      "500/500 [==============================] - 52s - loss: 2.0100 - acc: 0.5222 - val_loss: 1.8862 - val_acc: 0.5790\n",
      "Epoch 20/80\n",
      "499/500 [============================>.] - ETA: 0s - loss: 1.9480 - acc: 0.5327- ETA: 2s - loss: 1.9458 - acc: 0.53 - ETA: 2s - loss: 1.9455 - acc - ETA: 1s - loss: 1.9470 -Epoch 00019: val_loss did not improve\n",
      "500/500 [==============================] - 51s - loss: 1.9487 - acc: 0.5325 - val_loss: 1.9691 - val_acc: 0.5480\n",
      "Epoch 21/80\n",
      "499/500 [============================>.] - ETA: 0s - loss: 1.9306 - acc: 0.5366Epoch 00020: val_loss did not improve\n",
      "500/500 [==============================] - 51s - loss: 1.9305 - acc: 0.5366 - val_loss: 1.9488 - val_acc: 0.5750\n",
      "Epoch 22/80\n",
      "499/500 [============================>.] - ETA: 0s - loss: 1.9002 - acc: 0.5435Epoch 00021: val_loss improved from 1.88624 to 1.73824, saving model to final_map.hdf5\n",
      "500/500 [==============================] - 51s - loss: 1.9000 - acc: 0.5433 - val_loss: 1.7382 - val_acc: 0.5885\n",
      "Epoch 23/80\n",
      "499/500 [============================>.] - ETA: 0s - loss: 1.8600 - acc: 0.5507Epoch 00022: val_loss did not improve\n",
      "500/500 [==============================] - 50s - loss: 1.8600 - acc: 0.5507 - val_loss: 1.9042 - val_acc: 0.5775\n",
      "Epoch 24/80\n",
      "499/500 [============================>.] - ETA: 0s - loss: 1.8495 - acc: 0.5576- ETA: 6s - loss: 1.8519 - acc:  - ETA: 6s - lEpoch 00023: val_loss did not improve\n",
      "500/500 [==============================] - 51s - loss: 1.8485 - acc: 0.5577 - val_loss: 1.8571 - val_acc: 0.5850\n",
      "Epoch 25/80\n",
      "499/500 [============================>.] - ETA: 0s - loss: 1.8257 - acc: 0.5572- ETA: 0s - loss: 1.8242 - acc: Epoch 00024: val_loss improved from 1.73824 to 1.71983, saving model to final_map.hdf5\n",
      "500/500 [==============================] - 51s - loss: 1.8268 - acc: 0.5569 - val_loss: 1.7198 - val_acc: 0.5795\n",
      "Epoch 26/80\n",
      "499/500 [============================>.] - ETA: 0s - loss: 1.7986 - acc: 0.561 - ETA: 0s - loss: 1.7982 - acc: 0.5617Epoch 00025: val_loss did not improve\n",
      "500/500 [==============================] - 52s - loss: 1.7979 - acc: 0.5616 - val_loss: 1.7720 - val_acc: 0.5835\n",
      "Epoch 27/80\n",
      "499/500 [============================>.] - ETA: 0s - loss: 1.7600 - acc: 0.5721Epoch 00026: val_loss did not improve\n",
      "500/500 [==============================] - 52s - loss: 1.7597 - acc: 0.5721 - val_loss: 2.0936 - val_acc: 0.5560\n",
      "Epoch 28/80\n"
     ]
    },
    {
     "name": "stdout",
     "output_type": "stream",
     "text": [
      "499/500 [============================>.] - ETA: 0s - loss: 1.7338 - acc: 0.5748Epoch 00027: val_loss did not improve\n",
      "500/500 [==============================] - 50s - loss: 1.7339 - acc: 0.5747 - val_loss: 1.7896 - val_acc: 0.6005\n",
      "Epoch 29/80\n",
      "499/500 [============================>.] - ETA: 0s - loss: 1.7257 - acc: 0.5765Epoch 00028: val_loss did not improve\n",
      "500/500 [==============================] - 50s - loss: 1.7257 - acc: 0.5766 - val_loss: 1.7814 - val_acc: 0.6030\n",
      "Epoch 30/80\n",
      "499/500 [============================>.] - ETA: 0s - loss: 1.7061 - acc: 0.5820Epoch 00029: val_loss improved from 1.71983 to 1.66470, saving model to final_map.hdf5\n",
      "500/500 [==============================] - 50s - loss: 1.7060 - acc: 0.5819 - val_loss: 1.6647 - val_acc: 0.6130\n",
      "Epoch 31/80\n",
      "499/500 [============================>.] - ETA: 0s - loss: 1.6788 - acc: 0.5851Epoch 00030: val_loss improved from 1.66470 to 1.61295, saving model to final_map.hdf5\n",
      "500/500 [==============================] - 50s - loss: 1.6788 - acc: 0.5850 - val_loss: 1.6130 - val_acc: 0.6200\n",
      "Epoch 32/80\n",
      "499/500 [============================>.] - ETA: 0s - loss: 1.6702 - acc: 0.5914Epoch 00031: val_loss did not improve\n",
      "500/500 [==============================] - 50s - loss: 1.6704 - acc: 0.5914 - val_loss: 1.6284 - val_acc: 0.6135\n",
      "Epoch 33/80\n",
      "499/500 [============================>.] - ETA: 0s - loss: 1.6646 - acc: 0.5939Epoch 00032: val_loss did not improve\n",
      "500/500 [==============================] - 50s - loss: 1.6672 - acc: 0.5936 - val_loss: 1.6909 - val_acc: 0.6065\n",
      "Epoch 34/80\n",
      "499/500 [============================>.] - ETA: 0s - loss: 1.6286 - acc: 0.5935Epoch 00033: val_loss did not improve\n",
      "500/500 [==============================] - 52s - loss: 1.6300 - acc: 0.5932 - val_loss: 1.6779 - val_acc: 0.6045\n",
      "Epoch 35/80\n",
      "499/500 [============================>.] - ETA: 0s - loss: 1.6305 - acc: 0.5989Epoch 00034: val_loss did not improve\n",
      "500/500 [==============================] - 52s - loss: 1.6307 - acc: 0.5989 - val_loss: 1.8025 - val_acc: 0.5975\n",
      "Epoch 36/80\n",
      "499/500 [============================>.] - ETA: 0s - loss: 1.6098 - acc: 0.6036Epoch 00035: val_loss did not improve\n",
      "500/500 [==============================] - 52s - loss: 1.6098 - acc: 0.6035 - val_loss: 1.6372 - val_acc: 0.6130\n",
      "Epoch 37/80\n",
      "499/500 [============================>.] - ETA: 0s - loss: 1.5990 - acc: 0.6091Epoch 00036: val_loss did not improve\n",
      "500/500 [==============================] - 52s - loss: 1.6001 - acc: 0.6091 - val_loss: 1.7394 - val_acc: 0.5970\n",
      "Epoch 38/80\n",
      "499/500 [============================>.] - ETA: 0s - loss: 1.5878 - acc: 0.6063- ETA: 2s Epoch 00037: val_loss did not improve\n",
      "500/500 [==============================] - 52s - loss: 1.5887 - acc: 0.6061 - val_loss: 1.6546 - val_acc: 0.6055\n",
      "Epoch 39/80\n",
      "499/500 [============================>.] - ETA: 0s - loss: 1.5893 - acc: 0.6080- ETA: 9s - l - ETAEpoch 00038: val_loss improved from 1.61295 to 1.57100, saving model to final_map.hdf5\n",
      "500/500 [==============================] - 52s - loss: 1.5898 - acc: 0.6078 - val_loss: 1.5710 - val_acc: 0.6350\n",
      "Epoch 40/80\n",
      "499/500 [============================>.] - ETA: 0s - loss: 1.5793 - acc: 0.6092Epoch 00039: val_loss did not improve\n",
      "500/500 [==============================] - 52s - loss: 1.5794 - acc: 0.6091 - val_loss: 1.6373 - val_acc: 0.6155\n",
      "Epoch 41/80\n",
      "499/500 [============================>.] - ETA: 0s - loss: 1.5476 - acc: 0.6154Epoch 00040: val_loss did not improve\n",
      "500/500 [==============================] - 52s - loss: 1.5476 - acc: 0.6152 - val_loss: 1.6612 - val_acc: 0.6145\n",
      "Epoch 42/80\n",
      "499/500 [============================>.] - ETA: 0s - loss: 1.5470 - acc: 0.6127Epoch 00041: val_loss did not improve\n",
      "500/500 [==============================] - 52s - loss: 1.5466 - acc: 0.6129 - val_loss: 1.7348 - val_acc: 0.6140\n",
      "Epoch 43/80\n",
      "499/500 [============================>.] - ETA: 0s - loss: 1.5289 - acc: 0.6191 - ETA: 1s - loss: 1.5330 - aEpoch 00042: val_loss did not improve\n",
      "500/500 [==============================] - 52s - loss: 1.5299 - acc: 0.6188 - val_loss: 1.5840 - val_acc: 0.6205\n",
      "Epoch 44/80\n",
      "499/500 [============================>.] - ETA: 0s - loss: 1.5290 - acc: 0.6221- ETA: 7s - loss: 1. - ETA: 5s - - ETA: 2s - loss: 1.5300 -  - ETA: 1s - loss: 1.5305Epoch 00043: val_loss did not improve\n",
      "500/500 [==============================] - 52s - loss: 1.5282 - acc: 0.6224 - val_loss: 1.5842 - val_acc: 0.6280\n",
      "Epoch 45/80\n",
      "499/500 [============================>.] - ETA: 0s - loss: 1.5260 - acc: 0.6169Epoch 00044: val_loss did not improve\n",
      "500/500 [==============================] - 52s - loss: 1.5264 - acc: 0.6168 - val_loss: 1.7458 - val_acc: 0.6145\n",
      "Epoch 46/80\n",
      "499/500 [============================>.] - ETA: 0s - loss: 1.5125 - acc: 0.6225  ETA: 16s - loss: 1.4904  - ET - ETA: 2s - loss: 1.5117 - acc: 0.622 - ETA: 2s - loEpoch 00045: val_loss improved from 1.57100 to 1.55452, saving model to final_map.hdf5\n",
      "500/500 [==============================] - 52s - loss: 1.5134 - acc: 0.6224 - val_loss: 1.5545 - val_acc: 0.6305\n",
      "Epoch 47/80\n",
      "499/500 [============================>.] - ETA: 0s - loss: 1.4993 - acc: 0.6235Epoch 00046: val_loss did not improve\n",
      "500/500 [==============================] - 52s - loss: 1.5000 - acc: 0.6234 - val_loss: 1.7037 - val_acc: 0.6150\n",
      "Epoch 48/80\n",
      "499/500 [============================>.] - ETA: 0s - loss: 1.4945 - acc: 0.6271- ETA: 2s - loss - ETA: 0s - loss: 1.4949 - acc: 0.6270Epoch 00047: val_loss improved from 1.55452 to 1.50891, saving model to final_map.hdf5\n",
      "500/500 [==============================] - 52s - loss: 1.4949 - acc: 0.6270 - val_loss: 1.5089 - val_acc: 0.6510\n",
      "Epoch 49/80\n",
      "499/500 [============================>.] - ETA: 0s - loss: 1.4913 - acc: 0.6234Epoch 00048: val_loss did not improve\n",
      "500/500 [==============================] - 52s - loss: 1.4917 - acc: 0.6236 - val_loss: 1.5493 - val_acc: 0.6240\n",
      "Epoch 50/80\n",
      "499/500 [============================>.] - ETA: 0s - loss: 1.4780 - acc: 0.6266Epoch 00049: val_loss did not improve\n",
      "500/500 [==============================] - 52s - loss: 1.4783 - acc: 0.6266 - val_loss: 1.6732 - val_acc: 0.6145\n",
      "Epoch 51/80\n",
      "499/500 [============================>.] - ETA: 0s - loss: 1.4634 - acc: 0.6291- ETEpoch 00050: val_loss did not improve\n",
      "500/500 [==============================] - 52s - loss: 1.4628 - acc: 0.6291 - val_loss: 1.6191 - val_acc: 0.6285\n",
      "Epoch 52/80\n",
      "499/500 [============================>.] - ETA: 0s - loss: 1.4634 - acc: 0.6293Epoch 00051: val_loss did not improve\n",
      "500/500 [==============================] - 52s - loss: 1.4631 - acc: 0.6293 - val_loss: 1.6000 - val_acc: 0.6430\n",
      "Epoch 53/80\n",
      "499/500 [============================>.] - ETA: 0s - loss: 1.4581 - acc: 0.6327Epoch 00052: val_loss did not improve\n",
      "500/500 [==============================] - 52s - loss: 1.4583 - acc: 0.6327 - val_loss: 1.5720 - val_acc: 0.6305\n",
      "Epoch 54/80\n",
      "499/500 [============================>.] - ETA: 0s - loss: 1.4531 - acc: 0.6363- ETA: 2s - loss: 1.4516 - acc - ETA: 1s - loss: 1.450Epoch 00053: val_loss did not improve\n",
      "500/500 [==============================] - 52s - loss: 1.4525 - acc: 0.6365 - val_loss: 1.5392 - val_acc: 0.6405\n",
      "Epoch 55/80\n",
      "499/500 [============================>.] - ETA: 0s - loss: 1.4486 - acc: 0.6358- ETA: 0s - loss: 1.4493 - acc: 0.635Epoch 00054: val_loss did not improve\n",
      "500/500 [==============================] - 52s - loss: 1.4489 - acc: 0.6357 - val_loss: 1.5468 - val_acc: 0.6335\n",
      "Epoch 56/80\n",
      "499/500 [============================>.] - ETA: 0s - loss: 1.4490 - acc: 0.6359  - ETA: 6s - loss: 1.4663 - - ETA: 4s - ETA: 1s - loss: 1.Epoch 00055: val_loss did not improve\n",
      "500/500 [==============================] - 51s - loss: 1.4481 - acc: 0.6360 - val_loss: 1.6515 - val_acc: 0.6340\n",
      "Epoch 57/80\n",
      "499/500 [============================>.] - ETA: 0s - loss: 1.4357 - acc: 0.6336Epoch 00056: val_loss did not improve\n",
      "500/500 [==============================] - 51s - loss: 1.4364 - acc: 0.6336 - val_loss: 1.5740 - val_acc: 0.6265\n",
      "Epoch 58/80\n",
      "499/500 [============================>.] - ETA: 0s - loss: 1.4238 - acc: 0.6391- ETA: 1s - loss: 1.427Epoch 00057: val_loss did not improve\n"
     ]
    },
    {
     "name": "stdout",
     "output_type": "stream",
     "text": [
      "500/500 [==============================] - 52s - loss: 1.4236 - acc: 0.6392 - val_loss: 1.6188 - val_acc: 0.6310\n",
      "Epoch 59/80\n",
      "499/500 [============================>.] - ETA: 0s - loss: 1.4229 - acc: 0.6400- ETA: 2s - loss: Epoch 00058: val_loss did not improve\n",
      "500/500 [==============================] - 52s - loss: 1.4224 - acc: 0.6401 - val_loss: 1.6817 - val_acc: 0.6255\n",
      "Epoch 60/80\n",
      "499/500 [============================>.] - ETA: 0s - loss: 1.4214 - acc: 0.638 - ETA: 0s - loss: 1.4215 - acc: 0.6388Epoch 00059: val_loss did not improve\n",
      "500/500 [==============================] - 51s - loss: 1.4209 - acc: 0.6391 - val_loss: 1.5546 - val_acc: 0.6445\n",
      "Epoch 61/80\n",
      "499/500 [============================>.] - ETA: 0s - loss: 1.3926 - acc: 0.6460Epoch 00060: val_loss did not improve\n",
      "500/500 [==============================] - 51s - loss: 1.3925 - acc: 0.6461 - val_loss: 1.7311 - val_acc: 0.6295\n",
      "Epoch 62/80\n",
      "499/500 [============================>.] - ETA: 0s - loss: 1.4102 - acc: 0.6414Epoch 00061: val_loss did not improve\n",
      "500/500 [==============================] - 52s - loss: 1.4098 - acc: 0.6414 - val_loss: 1.6047 - val_acc: 0.6390\n",
      "Epoch 63/80\n",
      "499/500 [============================>.] - ETA: 0s - loss: 1.3983 - acc: 0.6432- ETA: 6s - loss: 1.3910 - acc: 0. - ETA: 5s - loss: 1.3911 -  - ETA: 4s - loss: 1.3900 - ac - ETA: 3s - loss: 1 - ETA: 2s - loss: Epoch 00062: val_loss did not improve\n",
      "500/500 [==============================] - 51s - loss: 1.3994 - acc: 0.6431 - val_loss: 1.5558 - val_acc: 0.6265\n",
      "Epoch 64/80\n",
      "499/500 [============================>.] - ETA: 0s - loss: 1.3778 - acc: 0.6468Epoch 00063: val_loss did not improve\n",
      "500/500 [==============================] - 51s - loss: 1.3793 - acc: 0.6465 - val_loss: 1.5653 - val_acc: 0.6100\n",
      "Epoch 65/80\n",
      "499/500 [============================>.] - ETA: 0s - loss: 1.3669 - acc: 0.6562Epoch 00064: val_loss did not improve\n",
      "500/500 [==============================] - 51s - loss: 1.3682 - acc: 0.6559 - val_loss: 1.5199 - val_acc: 0.6445\n",
      "Epoch 66/80\n",
      "499/500 [============================>.] - ETA: 0s - loss: 1.3752 - acc: 0.6502Epoch 00065: val_loss did not improve\n",
      "500/500 [==============================] - 51s - loss: 1.3766 - acc: 0.6499 - val_loss: 1.5091 - val_acc: 0.6355\n",
      "Epoch 67/80\n",
      "499/500 [============================>.] - ETA: 0s - loss: 1.3669 - acc: 0.6503Epoch 00066: val_loss did not improve\n",
      "500/500 [==============================] - 51s - loss: 1.3678 - acc: 0.6501 - val_loss: 1.5894 - val_acc: 0.6385\n",
      "Epoch 68/80\n",
      "499/500 [============================>.] - ETA: 0s - loss: 1.3665 - acc: 0.6525Epoch 00067: val_loss did not improve\n",
      "500/500 [==============================] - 51s - loss: 1.3672 - acc: 0.6527 - val_loss: 1.5917 - val_acc: 0.6485\n",
      "Epoch 69/80\n",
      "499/500 [============================>.] - ETA: 0s - loss: 1.3747 - acc: 0.6514- ETA: 0s - loss: 1.3732 - acc:Epoch 00068: val_loss did not improve\n",
      "500/500 [==============================] - 51s - loss: 1.3764 - acc: 0.6511 - val_loss: 1.5103 - val_acc: 0.6355\n",
      "Epoch 70/80\n",
      "499/500 [============================>.] - ETA: 0s - loss: 1.3676 - acc: 0.6494Epoch 00069: val_loss did not improve\n",
      "500/500 [==============================] - 52s - loss: 1.3691 - acc: 0.6492 - val_loss: 1.5333 - val_acc: 0.6365\n",
      "Epoch 71/80\n",
      "499/500 [============================>.] - ETA: 0s - loss: 1.3555 - acc: 0.6520Epoch 00070: val_loss did not improve\n",
      "500/500 [==============================] - 51s - loss: 1.3550 - acc: 0.6521 - val_loss: 1.5896 - val_acc: 0.6540\n",
      "Epoch 72/80\n",
      "499/500 [============================>.] - ETA: 0s - loss: 1.3660 - acc: 0.6528  ETA: 11s - loss: 1.3654 - acc: 0. - ETA: 11s - loss:  - ETA: 10s - loss: 1.3615 - - ETA: 9s - loss: 1. - ETA: 7s - loss: 1.3559 -  - ETA: 6s -Epoch 00071: val_loss did not improve\n",
      "500/500 [==============================] - 51s - loss: 1.3653 - acc: 0.6531 - val_loss: 1.5406 - val_acc: 0.6590\n",
      "Epoch 73/80\n",
      "499/500 [============================>.] - ETA: 0s - loss: 1.3620 - acc: 0.6504Epoch 00072: val_loss did not improve\n",
      "500/500 [==============================] - 52s - loss: 1.3610 - acc: 0.6506 - val_loss: 1.6246 - val_acc: 0.6430\n",
      "Epoch 74/80\n",
      "499/500 [============================>.] - ETA: 0s - loss: 1.3580 - acc: 0.6527- ETEpoch 00073: val_loss did not improve\n",
      "500/500 [==============================] - 51s - loss: 1.3575 - acc: 0.6526 - val_loss: 1.5841 - val_acc: 0.6530\n",
      "Epoch 75/80\n",
      "499/500 [============================>.] - ETA: 0s - loss: 1.3379 - acc: 0.6584Epoch 00074: val_loss did not improve\n",
      "500/500 [==============================] - 51s - loss: 1.3385 - acc: 0.6583 - val_loss: 1.6362 - val_acc: 0.6230\n",
      "Epoch 76/80\n",
      "499/500 [============================>.] - ETA: 0s - loss: 1.3569 - acc: 0.6552Epoch 00075: val_loss improved from 1.50891 to 1.47315, saving model to final_map.hdf5\n",
      "500/500 [==============================] - 51s - loss: 1.3572 - acc: 0.6549 - val_loss: 1.4732 - val_acc: 0.6545\n",
      "Epoch 77/80\n",
      "499/500 [============================>.] - ETA: 0s - loss: 1.3152 - acc: 0.6624- ETA: 0s - loss: 1.3186 - acc: 0Epoch 00076: val_loss did not improve\n",
      "500/500 [==============================] - 52s - loss: 1.3153 - acc: 0.6626 - val_loss: 1.6470 - val_acc: 0.6325\n",
      "Epoch 78/80\n",
      "499/500 [============================>.] - ETA: 0s - loss: 1.3425 - acc: 0.6549- ETA: 4s - loss: 1.3460 - acc: 0 - E - ETA: 0s - loss: 1.3423 - acc: 0.654Epoch 00077: val_loss did not improve\n",
      "500/500 [==============================] - 51s - loss: 1.3425 - acc: 0.6549 - val_loss: 1.5806 - val_acc: 0.6500\n",
      "Epoch 79/80\n",
      "499/500 [============================>.] - ETA: 0s - loss: 1.3459 - acc: 0.6580Epoch 00078: val_loss did not improve\n",
      "500/500 [==============================] - 52s - loss: 1.3462 - acc: 0.6580 - val_loss: 1.5051 - val_acc: 0.6655\n",
      "Epoch 80/80\n",
      "499/500 [============================>.] - ETA: 0s - loss: 1.3385 - acc: 0.6587- ETAEpoch 00079: val_loss did not improve\n",
      "500/500 [==============================] - 51s - loss: 1.3381 - acc: 0.6587 - val_loss: 1.5911 - val_acc: 0.6350\n"
     ]
    }
   ],
   "source": [
    "from keras.callbacks import ModelCheckpoint  \n",
    "\n",
    "epochs = 80\n",
    "#checkpoint\n",
    "checkpointer = ModelCheckpoint(filepath=model_name+'.hdf5', \n",
    "                               verbose=1, save_best_only=True)\n",
    "\n",
    "#batch size\n",
    "bs = 32\n",
    "\n",
    "history = model.fit_generator(datagen.flow(train_tensors,y_train,batch_size=bs),steps_per_epoch=train_tensors.shape[0]/bs,\n",
    "                                  epochs=epochs, verbose=1,callbacks=[checkpointer],validation_data=(valid_tensors, y_val)\n",
    "    )\n",
    "\n",
    "model.load_weights(model_name+'.hdf5')\n",
    "\n"
   ]
  },
  {
   "cell_type": "markdown",
   "metadata": {},
   "source": [
    "# Results"
   ]
  },
  {
   "cell_type": "code",
   "execution_count": 13,
   "metadata": {},
   "outputs": [
    {
     "name": "stdout",
     "output_type": "stream",
     "text": [
      "Test accuracy: 66.3500%\n"
     ]
    }
   ],
   "source": [
    "# make prediction\n",
    "predictions = [np.argmax(model.predict(np.expand_dims(tensor, axis=0))) for tensor in test_tensors]\n",
    "\n",
    "# report test accuracy\n",
    "test_accuracy = 100*np.sum(np.array(predictions)==np.argmax(y_test, axis=1))/len(predictions)\n",
    "print('Test accuracy: %.4f%%' % test_accuracy)\n",
    "\n"
   ]
  },
  {
   "cell_type": "markdown",
   "metadata": {},
   "source": [
    "# Visualization"
   ]
  },
  {
   "cell_type": "code",
   "execution_count": 14,
   "metadata": {},
   "outputs": [
    {
     "data": {
      "image/png": "[encoded data removed]",
      "text/plain": [
       "<matplotlib.figure.Figure at 0x7f1cf5babb70>"
      ]
     },
     "metadata": {},
     "output_type": "display_data"
    }
   ],
   "source": [
    "#Accuracy\n",
    "plt.plot(history.history['acc'])\n",
    "plt.plot(history.history['val_acc'])\n",
    "plt.title('model accuracy')\n",
    "plt.ylabel('accuracy')\n",
    "plt.xlabel('epoch')\n",
    "plt.legend(['train', 'validation'], loc='upper left')\n",
    "plt.show()"
   ]
  },
  {
   "cell_type": "code",
   "execution_count": 15,
   "metadata": {},
   "outputs": [
    {
     "data": {
      "image/png": "[encoded data removed]",
      "text/plain": [
       "<matplotlib.figure.Figure at 0x7f1cf53da588>"
      ]
     },
     "metadata": {},
     "output_type": "display_data"
    }
   ],
   "source": [
    "plt.gcf().clear()\n",
    "#Loss\n",
    "plt.plot(history.history['loss'])\n",
    "plt.plot(history.history['val_loss'])\n",
    "plt.title('model loss')\n",
    "plt.ylabel('loss')\n",
    "plt.xlabel('epoch')\n",
    "plt.legend(['train', 'validation'], loc='upper left')\n",
    "plt.show()"
   ]
  },
  {
   "cell_type": "code",
   "execution_count": null,
   "metadata": {},
   "outputs": [],
   "source": []
  }
 ],
 "metadata": {
  "kernelspec": {
   "display_name": "Python 3",
   "language": "python",
   "name": "python3"
  },
  "language_info": {
   "codemirror_mode": {
    "name": "ipython",
    "version": 3
   },
   "file_extension": ".py",
   "mimetype": "text/x-python",
   "name": "python",
   "nbconvert_exporter": "python",
   "pygments_lexer": "ipython3",
   "version": "3.6.3"
  }
 },
 "nbformat": 4,
 "nbformat_minor": 2
}
